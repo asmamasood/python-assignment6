{
  "nbformat": 4,
  "nbformat_minor": 0,
  "metadata": {
    "colab": {
      "provenance": [],
      "authorship_tag": "ABX9TyOicD+U5UFPfsgmlQvH0nh4",
      "include_colab_link": true
    },
    "kernelspec": {
      "name": "python3",
      "display_name": "Python 3"
    },
    "language_info": {
      "name": "python"
    }
  },
  "cells": [
    {
      "cell_type": "markdown",
      "metadata": {
        "id": "view-in-github",
        "colab_type": "text"
      },
      "source": [
        "<a href=\"https://colab.research.google.com/github/asmamasood/python-assignment6/blob/main/ExceptionHandling_py.ipynb\" target=\"_parent\"><img src=\"https://colab.research.google.com/assets/colab-badge.svg\" alt=\"Open In Colab\"/></a>"
      ]
    },
    {
      "cell_type": "code",
      "execution_count": null,
      "metadata": {
        "id": "mR8rhCHPD853"
      },
      "outputs": [],
      "source": [
        "# lesson_09_exception_handling.py\n",
        "\n",
        "# Example 1: Basic try-except\n",
        "try:\n",
        "    num1 = int(input(\"Enter a number: \"))\n",
        "    num2 = int(input(\"Enter another number: \"))\n",
        "    result = num1 / num2\n",
        "    print(\"Result:\", result)\n",
        "\n",
        "except ZeroDivisionError:\n",
        "    print(\"❌ You cannot divide by zero!\")\n",
        "\n",
        "except ValueError:\n",
        "    print(\"❌ Please enter valid integers only.\")\n",
        "\n",
        "# Example 2: try-except-else-finally\n",
        "try:\n",
        "    age = int(input(\"Enter your age: \"))\n",
        "    if age < 0:\n",
        "        raise ValueError(\"Age cannot be negative.\")\n",
        "    print(\"You entered:\", age)\n",
        "\n",
        "except ValueError as ve:\n",
        "    print(\"❌ Error:\", ve)\n",
        "\n",
        "else:\n",
        "    print(\"✅ Age input successful.\")\n",
        "\n",
        "finally:\n",
        "    print(\"🌀 Finished age validation block.\")\n",
        "\n",
        "# Example 3: Custom raise\n",
        "def withdraw(balance, amount):\n",
        "    if amount > balance:\n",
        "        raise Exception(\"Insufficient funds.\")\n",
        "    return balance - amount\n",
        "\n",
        "try:\n",
        "    new_balance = withdraw(500, 800)\n",
        "    print(\"Withdrawal successful. New balance:\", new_balance)\n",
        "\n",
        "except Exception as e:\n",
        "    print(\"❌ Transaction failed:\", e)\n"
      ]
    }
  ]
}