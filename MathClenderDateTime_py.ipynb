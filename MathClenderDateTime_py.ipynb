{
  "nbformat": 4,
  "nbformat_minor": 0,
  "metadata": {
    "colab": {
      "provenance": [],
      "authorship_tag": "ABX9TyPicz81D1TUVRzIMCyYKc8s",
      "include_colab_link": true
    },
    "kernelspec": {
      "name": "python3",
      "display_name": "Python 3"
    },
    "language_info": {
      "name": "python"
    }
  },
  "cells": [
    {
      "cell_type": "markdown",
      "metadata": {
        "id": "view-in-github",
        "colab_type": "text"
      },
      "source": [
        "<a href=\"https://colab.research.google.com/github/asmamasood/python-assignment6/blob/main/MathClenderDateTime_py.ipynb\" target=\"_parent\"><img src=\"https://colab.research.google.com/assets/colab-badge.svg\" alt=\"Open In Colab\"/></a>"
      ]
    },
    {
      "cell_type": "code",
      "execution_count": null,
      "metadata": {
        "id": "MrQ44KGUIb27"
      },
      "outputs": [],
      "source": [
        "import math\n",
        "import datetime\n",
        "import calendar\n",
        "\n",
        "# Math\n",
        "print(\"Square root of 16 is:\", math.sqrt(16))\n",
        "print(\"Value of pi is:\", math.pi)\n",
        "\n",
        "# DateTime\n",
        "now = datetime.datetime.now()\n",
        "print(\"Current date and time:\", now)\n",
        "\n",
        "# Calendar\n",
        "print(\"Calendar for May 2025:\")\n",
        "print(calendar.month(2025, 5))\n"
      ]
    }
  ]
}